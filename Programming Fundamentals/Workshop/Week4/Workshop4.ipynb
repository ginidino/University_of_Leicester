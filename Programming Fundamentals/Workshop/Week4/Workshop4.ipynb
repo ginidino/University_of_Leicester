{
 "cells": [
  {
   "cell_type": "markdown",
   "id": "0c1dbf29",
   "metadata": {},
   "source": [
    "Task1"
   ]
  },
  {
   "cell_type": "code",
   "execution_count": 1,
   "id": "a42dcfa9",
   "metadata": {},
   "outputs": [
    {
     "name": "stdout",
     "output_type": "stream",
     "text": [
      "Enter the number: 3\n",
      "Enter the number: 4\n",
      "Enter the number: 5\n",
      "Enter the number: 6\n",
      "Enter the number: 7\n",
      "[3, 4, 5, 6, 7]\n",
      "[9, 16, 25, 36, 49]\n"
     ]
    }
   ],
   "source": [
    "alist = []\n",
    "pow_list = []\n",
    "num = 0\n",
    "pow_num = 0\n",
    "\n",
    "while num < 5:\n",
    "    list_num = int(input(\"Enter the number: \"))\n",
    "    num += 1\n",
    "    alist.append(list_num)\n",
    "    pow_list.append(pow(list_num, 2))\n",
    "print(alist)\n",
    "print(pow_list)"
   ]
  },
  {
   "cell_type": "markdown",
   "id": "64f38c08",
   "metadata": {},
   "source": [
    "Task2"
   ]
  },
  {
   "cell_type": "code",
   "execution_count": 11,
   "id": "443424cd",
   "metadata": {},
   "outputs": [
    {
     "name": "stdout",
     "output_type": "stream",
     "text": [
      "Enter the number: 1 1 1 1\n",
      "Enter the number: 1.5 1.3 2.5\n",
      "Enter the number: 0 0 0\n",
      "Enter the number: 3.1\n",
      "Enter the number: 5\n",
      "[['1', '1', '1', '1'], ['1.5', '1.3', '2.5'], ['0', '0', '0'], ['3.1'], ['5']]\n"
     ]
    }
   ],
   "source": [
    "num = 0\n",
    "alist = []\n",
    "\n",
    "while num < 5:\n",
    "    list_num = input(\"Enter the number: \")\n",
    "    alist_num = list_num.split(\" \")\n",
    "    \n",
    "    alist.append(alist_num)\n",
    "    \n",
    "    num += 1\n",
    "\n",
    "print(alist)"
   ]
  },
  {
   "cell_type": "code",
   "execution_count": 1,
   "id": "58b704de",
   "metadata": {},
   "outputs": [
    {
     "name": "stdout",
     "output_type": "stream",
     "text": [
      "Enter some numbers: 1 1 1 1\n",
      "Enter some numbers: 1.5 1.3 2.5\n",
      "Enter some numbers: 0 0 0\n",
      "Enter some numbers: 3.1\n",
      "Enter some numbers: 5\n",
      "[[1.0, 1.0, 1.0, 1.0], [1.5, 1.3, 2.5], [0.0, 0.0, 0.0], [3.1], [5.0]]\n"
     ]
    }
   ],
   "source": [
    "maxRows=5\n",
    "table=maxRows*[0]\n",
    "rowNumber=0\n",
    "while rowNumber < maxRows:\n",
    "    temp=input(\"Enter some numbers: \").split()\n",
    "    table[rowNumber]=len(temp)*[0]\n",
    "    for colNumber in range(len(temp)):\n",
    "        table[rowNumber][colNumber]=float(temp[colNumber])\n",
    "    rowNumber=rowNumber+1\n",
    "print(table)"
   ]
  },
  {
   "cell_type": "markdown",
   "id": "cedafe3f",
   "metadata": {},
   "source": [
    "Task3"
   ]
  },
  {
   "cell_type": "code",
   "execution_count": 6,
   "id": "85bc3026",
   "metadata": {},
   "outputs": [
    {
     "name": "stdout",
     "output_type": "stream",
     "text": [
      "Dice 1: 19 times\n",
      "Dice 2: 14 times\n",
      "Dice 3: 16 times\n",
      "Dice 4: 15 times\n",
      "Dice 5: 14 times\n",
      "Dice 6: 22 times\n"
     ]
    }
   ],
   "source": [
    "import random\n",
    "\n",
    "num = 0\n",
    "alist = []\n",
    "\n",
    "while num < 100:\n",
    "    ran_num = random.randint(1, 6)\n",
    "    alist.append(ran_num)\n",
    "    num += 1\n",
    "print(\"Dice 1:\", alist.count(1), \"times\")\n",
    "print(\"Dice 2:\", alist.count(2), \"times\")\n",
    "print(\"Dice 3:\", alist.count(3), \"times\")\n",
    "print(\"Dice 4:\", alist.count(4), \"times\")\n",
    "print(\"Dice 5:\", alist.count(5), \"times\")\n",
    "print(\"Dice 6:\", alist.count(6), \"times\")"
   ]
  },
  {
   "cell_type": "markdown",
   "id": "5853c712",
   "metadata": {},
   "source": [
    "Task4"
   ]
  },
  {
   "cell_type": "code",
   "execution_count": 7,
   "id": "858efbb3",
   "metadata": {},
   "outputs": [
    {
     "name": "stdout",
     "output_type": "stream",
     "text": [
      "Enter the word: level\n",
      "The word, levelm is a palindrome.\n",
      "Enter the word: example\n",
      "The word, examplem is not a palindrome.\n",
      "Enter the word: mom\n",
      "The word, momm is a palindrome.\n",
      "Enter the word: \n"
     ]
    }
   ],
   "source": [
    "while True:\n",
    "    word = input(\"Enter the word: \")\n",
    "    check = True\n",
    "    \n",
    "    if word == \"\":\n",
    "        break\n",
    "    \n",
    "    for i in range(len(word)):\n",
    "        if word[i] != word[len(word) - i - 1]:\n",
    "            check = False\n",
    "    \n",
    "    if check == True:\n",
    "        print(\"The word, %sm is a palindrome.\" % word)\n",
    "    else:\n",
    "        print(\"The word, %sm is not a palindrome.\" % word) "
   ]
  }
 ],
 "metadata": {
  "kernelspec": {
   "display_name": "Python 3 (ipykernel)",
   "language": "python",
   "name": "python3"
  },
  "language_info": {
   "codemirror_mode": {
    "name": "ipython",
    "version": 3
   },
   "file_extension": ".py",
   "mimetype": "text/x-python",
   "name": "python",
   "nbconvert_exporter": "python",
   "pygments_lexer": "ipython3",
   "version": "3.10.8"
  }
 },
 "nbformat": 4,
 "nbformat_minor": 5
}
