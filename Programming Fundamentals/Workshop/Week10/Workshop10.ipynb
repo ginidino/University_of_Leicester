{
 "cells": [
  {
   "cell_type": "markdown",
   "id": "1457f235",
   "metadata": {},
   "source": [
    " Question1"
   ]
  },
  {
   "cell_type": "code",
   "execution_count": 13,
   "id": "ed55d420",
   "metadata": {},
   "outputs": [
    {
     "name": "stdout",
     "output_type": "stream",
     "text": [
      "2.23606797749979\n"
     ]
    }
   ],
   "source": [
    "class Point(object):\n",
    "    \"\"\" Point class for representing and manipulating x,y coordinates. \"\"\"\n",
    "\n",
    "    def __init__(self, x=1, y=1):\n",
    "        \"\"\" Create a new point at a given coordinates \"\"\"\n",
    "        self.x = x\n",
    "        self.y = y\n",
    "    # defining own print method    \n",
    "    def __str__(self):\n",
    "        return \"(\"+str(self.x)+\", \"+str(self.y)+\")\" \n",
    "\n",
    "class Segment(object):\n",
    "    \n",
    "    def __init__(self, x1, y1):\n",
    "        self.x1 = x1\n",
    "        self.y1 = y1\n",
    "    \n",
    "    def __str__(self):\n",
    "        return str(self.x1) + str(self.y1)\n",
    "    \n",
    "    def distance(self):\n",
    "        return str(((self.y1.x-self.x1.x)**2 + (self.y1.y-self.x1.y)**2)**0.5)\n",
    "p1 = Point()\n",
    "p2 = Point(3, 2)\n",
    "s = Segment(p1, p2)\n",
    "print(s.distance())"
   ]
  },
  {
   "cell_type": "markdown",
   "id": "89d7b481",
   "metadata": {},
   "source": [
    "Question2"
   ]
  },
  {
   "cell_type": "code",
   "execution_count": 51,
   "id": "61a19056",
   "metadata": {},
   "outputs": [
    {
     "name": "stdout",
     "output_type": "stream",
     "text": [
      "Circle: Location = (5, 6); Radius = 2 Height: 5\n",
      "87.96459430051421\n",
      "Circle: Location = (2, 3); Radius = 2 Height: 5\n",
      "87.96459430051421\n"
     ]
    }
   ],
   "source": [
    "import math\n",
    "\n",
    "class Point():\n",
    "    def __init__(self, x=1, y=1):\n",
    "        \"\"\" Create a new point at a given coordinates \"\"\"\n",
    "        self.x = x\n",
    "        self.y = y\n",
    "    # defining own print method    \n",
    "    def __str__(self):\n",
    "        return \"(\"+str(self.x)+\", \"+str(self.y)+\")\"\n",
    "\n",
    "class Circle(Point):\n",
    "    '''Class definition using inheritance'''\n",
    "    def __init__(self, x, y, r):\n",
    "        Point.__init__(self, x, y)\n",
    "        self.r = r\n",
    "        \n",
    "    def __str__(self):\n",
    "        return \"Location = \"+Point.__str__(self)+\"; Radius = \"+str(self.r)\n",
    "\n",
    "class Cylinder(Circle):\n",
    "    def __init__(self, x, y, r, l):\n",
    "        Circle.__init__(self, x, y, r)\n",
    "        self.l = l\n",
    "        #self.surArea = (math.pi*(self.r**2))*2 + (2*math.pi*self.r*self.l)\n",
    "    \n",
    "    def __str__(self):\n",
    "        return 'Circle: ' + Circle.__str__(self) +' Height: ' + str(self.l)\n",
    "    \n",
    "    def surArea(self):\n",
    "        return (math.pi*(self.r**2))*2 + (2*math.pi*self.r*self.l)\n",
    "    \n",
    "class Cylinder_comp():\n",
    "    def __init__(self, c, h):\n",
    "        self.c = c\n",
    "        self.h = h\n",
    "        \n",
    "        #self.surArea = (math.pi*(self.c.r**2))*2 + (2*math.pi*self.c.r*self.h)\n",
    "    \n",
    "    def __str__(self):\n",
    "        return 'Circle: ' + str(self.c) +' Height: ' + str(self.h)\n",
    "    \n",
    "    def surArea(self):\n",
    "        return (math.pi*(self.c.r**2))*2 + (2*math.pi*self.c.r*self.h)\n",
    "        \n",
    "c = Cylinder(5,6,2, 5)\n",
    "print(c)\n",
    "print(c.surArea())\n",
    "\n",
    "testCircle = Circle(2,3,2)\n",
    "c1 = Cylinder_comp(testCircle, 5)\n",
    "print(c1)\n",
    "print(c1.surArea())"
   ]
  },
  {
   "cell_type": "code",
   "execution_count": null,
   "id": "a42d5442",
   "metadata": {},
   "outputs": [],
   "source": []
  }
 ],
 "metadata": {
  "kernelspec": {
   "display_name": "Python 3 (ipykernel)",
   "language": "python",
   "name": "python3"
  },
  "language_info": {
   "codemirror_mode": {
    "name": "ipython",
    "version": 3
   },
   "file_extension": ".py",
   "mimetype": "text/x-python",
   "name": "python",
   "nbconvert_exporter": "python",
   "pygments_lexer": "ipython3",
   "version": "3.10.8"
  }
 },
 "nbformat": 4,
 "nbformat_minor": 5
}
