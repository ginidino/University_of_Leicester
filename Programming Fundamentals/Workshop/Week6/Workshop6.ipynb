{
 "cells": [
  {
   "cell_type": "code",
   "execution_count": 3,
   "id": "3be1f52e",
   "metadata": {},
   "outputs": [
    {
     "name": "stdout",
     "output_type": "stream",
     "text": [
      "THE AVENUE RANGE STATION MASSACRE WAS THE MURDER OF AT LEAST NINE ABORIGINAL TANGANEKALD PEOPLE, \n",
      "\n",
      "WHO WERE SHOT BY WHITE SETTLERS ON THE AVENUE RANGE PASTORAL STATION IN THE COLONY OF \n",
      "\n",
      "SOUTH AUSTRALIA AROUND SEPTEMBER 1848, DURING THE AUSTRALIAN FRONTIER WARS. \n",
      "\n",
      "THOSE CONFIRMED TO HAVE BEEN KILLED WERE AN OLD BLIND MAN, THREE WOMEN, TWO TEENAGE GIRLS, \n",
      "\n",
      "AND THREE FEMALE CHILDREN, INCLUDING A BABY. THE SHEEP FARMER JAMES BROWN (PICTURED) AND HIS OVERSEER, \n",
      "\n",
      "EASTWOOD, WERE SUSPECTED, AND BROWN WAS CHARGED WITH THE MURDER OF \"UNKNOWN ABORIGINAL NATIVES\" IN MARCH 1849. \n",
      "\n",
      "THE MAGISTRATE WHO COMMITTED HIM FOR TRIAL SAID THAT THERE WAS \"LITTLE QUESTION OF THE BUTCHERY OR THE BUTCHER\". \n",
      "\n",
      "FURTHER INVESTIGATION WAS ORDERED, BUT BY THE NOVEMBER 1849 SITTINGS OF THE SUPREME COURT IN THE COLONIAL \n",
      "\n",
      "CAPITAL OF ADELAIDE, THE CASE HAD BEEN DROPPED. AT THE TIME THERE WERE SIGNIFICANT RESTRICTIONS ON THE USE OF \n",
      "\n",
      "EVIDENCE GIVEN BY ABORIGINAL WITNESSES, ESPECIALLY WHERE A VERDICT COULD INVOLVE CAPITAL PUNISHMENT. \n"
     ]
    },
    {
     "data": {
      "text/plain": [
       "['Done']"
      ]
     },
     "execution_count": 3,
     "metadata": {},
     "output_type": "execute_result"
    }
   ],
   "source": [
    "def capitalise_txt(file):\n",
    "    '''Inputs: a text file\n",
    "        Outputs: Normally nothing as we print on the screen the read text in capital letters\n",
    "        But here we return the string 'Done'\n",
    "    '''\n",
    "    try:\n",
    "        fhand = open(file, 'r')\n",
    "        try:\n",
    "            for line in fhand:\n",
    "                print(line.upper())\n",
    "        except:\n",
    "            print(\"Processing error!\")\n",
    "        finally:\n",
    "            fhand.close()\n",
    "    except FileNotFoundError:\n",
    "        print(\"Could not open the file!\")\n",
    "        \n",
    "    \n",
    "    return ['Done']\n",
    "\n",
    "## Running the function\n",
    "file = 'text.txt'\n",
    "capitalise_txt(file)"
   ]
  },
  {
   "cell_type": "code",
   "execution_count": 4,
   "id": "cf83e518",
   "metadata": {},
   "outputs": [
    {
     "name": "stdout",
     "output_type": "stream",
     "text": [
      "6.70820\n"
     ]
    }
   ],
   "source": [
    "import random as rd\n",
    "def mysqrt(x, eps):\n",
    "    \"\"\"Inputs:two numbers x, eps such that x >= 0, eps>=0\n",
    "        Output: a number res such that x-eps <= res*res <=x+eps \"\"\"\n",
    "    g = rd.uniform(0, x) #random guess\n",
    "    gsquared = g*g\n",
    "    count = 1\n",
    "    try:\n",
    "        fhand = open('outputs.txt', 'w')\n",
    "        assert(x>=0) # to add in robustness\n",
    "        assert(eps>=0) # to be robust\n",
    "        while (gsquared<x-eps or gsquared>x+eps):\n",
    "            try:\n",
    "                g = (g+x/g)/2 #new g is average of g and x/g\n",
    "            except ZeroDivisionError:\n",
    "                print(\"Cannot divide by zero\")\n",
    "                g = g+10*eps #artificial increment to keep the code run\n",
    "            fhand.write('At iteration '+'{:d}'.format(count)+\\\n",
    "                        ', the estimated squared root is '+\\\n",
    "                        '{:.3f}'.format(g)+'\\n')\n",
    "            gsquared = g*g\n",
    "            count = count+1\n",
    "        return g\n",
    "        assert (gsquared >= x-eps and gsquared <= x+eps)\n",
    "    except AssertionError:\n",
    "        print(\"Assertion violated!\")\n",
    "    except:\n",
    "        print(\"Something went wrong\")\n",
    "    finally:\n",
    "        fhand.close() # closing the file\n",
    "        \n",
    "# Run the function\n",
    "res = '{:.5f}'.format(mysqrt(45, 1.e-8))\n",
    "print(res)"
   ]
  },
  {
   "cell_type": "code",
   "execution_count": 9,
   "id": "90158722",
   "metadata": {},
   "outputs": [
    {
     "name": "stdout",
     "output_type": "stream",
     "text": [
      "Row  0 average is 15.783\n",
      "Row  1 average is 11.117\n",
      "Row  2 average is 15.025\n",
      "Row  3 average is 10.025\n",
      "Row  4 average is 27.300\n",
      "Row  5 average is   nan\n",
      "Row  6 average is 4.600\n"
     ]
    }
   ],
   "source": [
    "def remove_empty(mylist):\n",
    "    \"\"\"\n",
    "        A simple utility function to remove empty strings\n",
    "        from a GIVEN list of strings\n",
    "    \"\"\"\n",
    "    res = mylist[:] #or res = mylist.copy()\n",
    "    for c in mylist:\n",
    "        if c=='':\n",
    "            res.remove(c)\n",
    "    return res\n",
    "\n",
    "# processing a csv file containing rows of decimal numbers\n",
    "def read_csv_data(file):\n",
    "    ''' Inputs: a csv file\n",
    "        Outputs: a list of lists; each inner list is a row of data from the csv file\n",
    "    '''\n",
    "    try:\n",
    "        fhand = open(file, 'r')\n",
    "        res = []\n",
    "        for line in fhand:\n",
    "            # convert to string after split\n",
    "            c_line = ''.join(line.split())\n",
    "            # remove commas\n",
    "            nums = c_line.split(',') \n",
    "            # remove empty strings if any\n",
    "            nums = remove_empty(nums)\n",
    "            #convert to float\n",
    "            nums = [float(x) for x in nums]\n",
    "            res.append(nums)\n",
    "        fhand.close()\n",
    "        return res\n",
    "    except FileNotFoundError:\n",
    "        print(\"File not found!\")\n",
    "    except:\n",
    "        print(\"Processing error!\")\n",
    "read_csv_data('data.csv')\n",
    "\n",
    "# averages by row\n",
    "def averages(data):\n",
    "    '''\n",
    "        Inputs: data, which is a list of rows (lists)\n",
    "        Outputs: a list formed by averages of each row of data\n",
    "    '''\n",
    "    import numpy as np\n",
    "    avgs = []\n",
    "    for row in data:\n",
    "        try:\n",
    "            if len(row)>0:\n",
    "                avg = sum(row)/len(row)\n",
    "                avgs.append(avg)\n",
    "            else:\n",
    "                assert(len(row)==0)\n",
    "                avgs.append(np.nan)\n",
    "        except AssertionError:\n",
    "            print('Assertion violated')\n",
    "        except:\n",
    "            print(\"Someting went wrong\")\n",
    "    return avgs\n",
    "def print_averages(avgs):\n",
    "    '''\n",
    "        inputs: a list containing the averages\n",
    "        Output: None but just printing the contents of the list on the screen\n",
    "    '''\n",
    "    for i in range(len(avgs)):\n",
    "        print(\"Row \", i, \"average is\", '{:5.3f}'.format(avgs[i]))\n",
    "        \n",
    "data = read_csv_data('data.csv')\n",
    "row_averages = averages(data)\n",
    "print_averages(row_averages)"
   ]
  },
  {
   "cell_type": "code",
   "execution_count": null,
   "id": "1c977921",
   "metadata": {},
   "outputs": [],
   "source": []
  }
 ],
 "metadata": {
  "kernelspec": {
   "display_name": "Python 3 (ipykernel)",
   "language": "python",
   "name": "python3"
  },
  "language_info": {
   "codemirror_mode": {
    "name": "ipython",
    "version": 3
   },
   "file_extension": ".py",
   "mimetype": "text/x-python",
   "name": "python",
   "nbconvert_exporter": "python",
   "pygments_lexer": "ipython3",
   "version": "3.10.8"
  }
 },
 "nbformat": 4,
 "nbformat_minor": 5
}
