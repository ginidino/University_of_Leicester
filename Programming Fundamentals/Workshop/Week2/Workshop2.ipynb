{
 "cells": [
  {
   "cell_type": "code",
   "execution_count": 1,
   "id": "5ee0d4a3",
   "metadata": {},
   "outputs": [
    {
     "data": {
      "text/plain": [
       "0.25706536712534533"
      ]
     },
     "execution_count": 1,
     "metadata": {},
     "output_type": "execute_result"
    }
   ],
   "source": [
    "import random\n",
    "\n",
    "random.random()"
   ]
  },
  {
   "cell_type": "code",
   "execution_count": 3,
   "id": "f07dfba2",
   "metadata": {},
   "outputs": [
    {
     "name": "stdout",
     "output_type": "stream",
     "text": [
      "0.607362178343562\n",
      "True\n"
     ]
    }
   ],
   "source": [
    "import random\n",
    "\n",
    "flip = random.random()\n",
    "print(flip)\n",
    "\n",
    "if flip > 0.5:\n",
    "    print(\"True\")\n",
    "else:\n",
    "    print(\"False\")"
   ]
  },
  {
   "cell_type": "code",
   "execution_count": 11,
   "id": "eb0f0718",
   "metadata": {},
   "outputs": [
    {
     "name": "stdout",
     "output_type": "stream",
     "text": [
      "Enter the value with range between 0 and 1: 0.345\n",
      "0.7583745861539328\n",
      "Tail\n"
     ]
    }
   ],
   "source": [
    "import random\n",
    "\n",
    "p = float(input(\"Enter the value with range between 0 and 1: \"))\n",
    "\n",
    "flip = random.random()\n",
    "print(flip)\n",
    "\n",
    "if p > flip:\n",
    "    print(\"Head\")\n",
    "else:\n",
    "    print(\"Tail\")"
   ]
  },
  {
   "cell_type": "code",
   "execution_count": 34,
   "id": "a7f42b86",
   "metadata": {},
   "outputs": [
    {
     "name": "stdout",
     "output_type": "stream",
     "text": [
      "Enter the number: 37\n",
      "guess is low\n"
     ]
    }
   ],
   "source": [
    "import random\n",
    "\n",
    "guessNum = random.randint(0, 100)\n",
    "\n",
    "num = int(input(\"Enter the number: \"))\n",
    "\n",
    "if guessNum == num:\n",
    "    print(\"Correct\")\n",
    "elif guessNum < num:\n",
    "    print(\"guess is low\")\n",
    "else:\n",
    "    print(\"geuss is high\")"
   ]
  },
  {
   "cell_type": "code",
   "execution_count": 35,
   "id": "e21d296f",
   "metadata": {},
   "outputs": [
    {
     "name": "stdout",
     "output_type": "stream",
     "text": [
      "Enter the grade: 70\n",
      "B\n"
     ]
    }
   ],
   "source": [
    "grade = int(input(\"Enter the grade: \"))\n",
    "\n",
    "if grade < 0 or grade > 100:\n",
    "    print(\"invalid grade\")\n",
    "elif grade >= 80:\n",
    "    print(\"A\")\n",
    "elif 70 <= grade < 80:\n",
    "    print(\"B\")\n",
    "elif 60 <= grade < 70:\n",
    "    print(\"C\")\n",
    "elif 50 <= grade < 60:\n",
    "    print(\"C\")\n",
    "else:\n",
    "    print(\"F\")"
   ]
  },
  {
   "cell_type": "code",
   "execution_count": 39,
   "id": "31460871",
   "metadata": {},
   "outputs": [
    {
     "name": "stdout",
     "output_type": "stream",
     "text": [
      "Enter the even number between 10 and 50: 35\n",
      "Random number is 20\n",
      "35 + 20 = 55\n"
     ]
    }
   ],
   "source": [
    "import random\n",
    "\n",
    "num1 = int(input(\"Enter the even number between 10 and 50: \"))\n",
    "\n",
    "if num1 % 2 != 0 and (num1 < 10 or num1 > 50):\n",
    "    print(\"try again with the correct value.\")\n",
    "else:\n",
    "    ranNum = random.randint(10, 100)\n",
    "    print(\"Random number is %d\" % ranNum)\n",
    "    \n",
    "    result = 0\n",
    "    if num1 % 7 == 0 and num1 > ranNum:\n",
    "        result = num1 + ranNum\n",
    "        print(\"%d + %d = %d\" % (num1, ranNum, result))\n",
    "    else:\n",
    "        result = num1 * ranNum\n",
    "        print(\"%d * %d = %d\" % (num1, ranNum, result))"
   ]
  }
 ],
 "metadata": {
  "kernelspec": {
   "display_name": "Python 3 (ipykernel)",
   "language": "python",
   "name": "python3"
  },
  "language_info": {
   "codemirror_mode": {
    "name": "ipython",
    "version": 3
   },
   "file_extension": ".py",
   "mimetype": "text/x-python",
   "name": "python",
   "nbconvert_exporter": "python",
   "pygments_lexer": "ipython3",
   "version": "3.10.6"
  }
 },
 "nbformat": 4,
 "nbformat_minor": 5
}
