{
 "cells": [
  {
   "cell_type": "markdown",
   "id": "ff42e154",
   "metadata": {},
   "source": [
    "Question1"
   ]
  },
  {
   "cell_type": "code",
   "execution_count": 1,
   "id": "10d4612e",
   "metadata": {},
   "outputs": [
    {
     "name": "stdout",
     "output_type": "stream",
     "text": [
      "(4, 3)\n"
     ]
    }
   ],
   "source": [
    "def unique_data_items(data):\n",
    "    nums = ()\n",
    "    words = ()\n",
    "    for t in data:\n",
    "        if t[0] not in nums:\n",
    "            nums += (t[0],)\n",
    "        if t[1] not in words:\n",
    "            words += (t[1],)\n",
    "            \n",
    "    numOfUniqueNums = len(nums)\n",
    "    numOfUniqueWords= len(words)\n",
    "    return (numOfUniqueNums, numOfUniqueWords) \n",
    "\n",
    "data = ((45, 'hand'), (21, 'basket'), (10, 'hand'), (24, 'foot'), (21, 'hand'))\n",
    "print(unique_data_items(data))"
   ]
  },
  {
   "cell_type": "code",
   "execution_count": null,
   "id": "d0e68ffb",
   "metadata": {},
   "outputs": [],
   "source": [
    "Question2"
   ]
  },
  {
   "cell_type": "code",
   "execution_count": 2,
   "id": "8ae31ae0",
   "metadata": {},
   "outputs": [
    {
     "name": "stdout",
     "output_type": "stream",
     "text": [
      "(2, -2.5)\n",
      "(2, -2.5)\n"
     ]
    }
   ],
   "source": [
    "def count_negatives_1(data):\n",
    "    data.append(0)\n",
    "    data = sorted(data)\n",
    "    zero = data.index(0)\n",
    "    data = data[:zero]\n",
    "    return len(data), sum(data)/len(data)\n",
    "\n",
    "def count_negatives_2(data):\n",
    "    data = list(filter(lambda x : x < 0, data))\n",
    "    return (len(data), sum(data)/len(data))\n",
    "\n",
    "print(count_negatives_1([-2, 4, -3, 1]))\n",
    "print(count_negatives_2([-2, 4, -3, 1]))"
   ]
  },
  {
   "cell_type": "markdown",
   "id": "165a7404",
   "metadata": {},
   "source": [
    "Question3"
   ]
  },
  {
   "cell_type": "code",
   "execution_count": 45,
   "id": "856927b8",
   "metadata": {},
   "outputs": [
    {
     "name": "stdout",
     "output_type": "stream",
     "text": [
      "[[ 23.1    3.5   56.4  -12.4    2.7   21.4 ]\n",
      " [ -2.4   36.     1.9   12.6    6.3   12.3 ]\n",
      " [ 34.6   25.   -10.8   11.3    0.7   -7.5 ]\n",
      " [  3.4   23.6   14.5   17.3   14.8  -13.45]]\n",
      "\n",
      "[15.78333333 11.11666667  8.88333333 10.025     ]\n",
      "[14.675  22.025  15.5     7.2     6.125   3.1875]\n"
     ]
    }
   ],
   "source": [
    "import numpy as np\n",
    "\n",
    "def read_data(file):\n",
    "    data = []\n",
    "    infile = open(file, \"r\")\n",
    "    for i in infile:\n",
    "        lineData = []\n",
    "        i = i.strip()\n",
    "        i = i.split()\n",
    "        for element in i:\n",
    "            lineData.append(float(element))\n",
    "        data.append(lineData)\n",
    "    return np.array(data)\n",
    "    \n",
    "def row_averages(data):\n",
    "    avg = []\n",
    "    for i in data:\n",
    "        sum = 0\n",
    "        for j in i:\n",
    "            sum += j\n",
    "        avg.append(sum / len(i))\n",
    "    return np.array(avg)\n",
    "     \n",
    "def col_averages(data):\n",
    "    sum = []\n",
    "    sum = len(data[0]) * [0.0]\n",
    "    for i in data:\n",
    "        for x in range(len(i)):\n",
    "            sum[x] += i[x]\n",
    "    for y in range(len(sum)):\n",
    "        sum[y] /= len(data)\n",
    "    return np.array(sum)\n",
    "\n",
    "data = read_data(\"data.txt\")\n",
    "print(data)\n",
    "print()\n",
    "print(row_averages(read_data(\"data.txt\")))\n",
    "print(col_averages(read_data(\"data.txt\")))\n",
    "\n"
   ]
  },
  {
   "cell_type": "code",
   "execution_count": null,
   "id": "00fff731",
   "metadata": {},
   "outputs": [],
   "source": []
  }
 ],
 "metadata": {
  "kernelspec": {
   "display_name": "Python 3 (ipykernel)",
   "language": "python",
   "name": "python3"
  },
  "language_info": {
   "codemirror_mode": {
    "name": "ipython",
    "version": 3
   },
   "file_extension": ".py",
   "mimetype": "text/x-python",
   "name": "python",
   "nbconvert_exporter": "python",
   "pygments_lexer": "ipython3",
   "version": "3.10.8"
  }
 },
 "nbformat": 4,
 "nbformat_minor": 5
}
