{
 "cells": [
  {
   "cell_type": "markdown",
   "id": "f6f70f50",
   "metadata": {},
   "source": [
    "Question 1"
   ]
  },
  {
   "cell_type": "code",
   "execution_count": 17,
   "id": "23aee8bc",
   "metadata": {},
   "outputs": [
    {
     "name": "stdout",
     "output_type": "stream",
     "text": [
      "{'The': 3, 'Avenue': 2, 'Range': 2, 'Station': 1, 'massacre': 1, 'was': 4, 'the': 13, 'murder': 2, 'of': 7, 'at': 1, 'least': 1, 'nine': 1, 'Aboriginal': 2, 'Tanganekald': 1, 'people,': 1, 'who': 2, 'were': 4, 'shot': 1, 'by': 3, 'white': 1, 'settlers': 1, 'on': 2, 'pastoral': 1, 'station': 1, 'in': 3, 'colony': 1, 'South': 1, 'Australia': 1, 'around': 1, 'September': 1, '1848,': 1, 'during': 1, 'Australian': 1, 'frontier': 1, 'wars.': 1, 'Those': 1, 'confirmed': 1, 'to': 1, 'have': 1, 'been': 2, 'killed': 1, 'an': 1, 'old': 1, 'blind': 1, 'man,': 1, 'three': 2, 'women,': 1, 'two': 1, 'teenage': 1, 'girls,': 1, 'and': 3, 'female': 1, 'children,': 1, 'including': 1, 'a': 2, 'baby.': 1, 'sheep': 1, 'farmer': 1, 'James': 1, 'Brown': 2, '(pictured)': 1, 'his': 1, 'overseer,': 1, 'Eastwood,': 1, 'suspected,': 1, 'charged': 1, 'with': 1, '\"unknown': 1, 'aboriginal': 1, 'natives\"': 1, 'March': 1, '1849.': 1, 'magistrate': 1, 'committed': 1, 'him': 1, 'for': 1, 'trial': 1, 'said': 1, 'that': 1, 'there': 2, '\"little': 1, 'question': 1, 'butchery': 1, 'or': 1, 'butcher\".': 1, 'Further': 1, 'investigation': 1, 'ordered,': 1, 'but': 1, 'November': 1, '1849': 1, 'sittings': 1, 'Supreme': 1, 'Court': 1, 'colonial': 1, 'capital': 2, 'Adelaide,': 1, 'case': 1, 'had': 1, 'dropped.': 1, 'At': 1, 'time': 1, 'significant': 1, 'restrictions': 1, 'use': 1, 'evidence': 1, 'given': 1, 'witnesses,': 1, 'especially': 1, 'where': 1, 'verdict': 1, 'could': 1, 'involve': 1, 'punishment.': 1}\n"
     ]
    }
   ],
   "source": [
    "def read_data(file):\n",
    "    d = {}\n",
    "    file = open(file, \"r\")\n",
    "    for i in file:\n",
    "        i = i.strip(\"\\n\").split()\n",
    "        for x in range(len(i)):\n",
    "            if i[x] not in d:\n",
    "                d[i[x]] = 1\n",
    "            else:\n",
    "                d[i[x]] += 1\n",
    "    return d\n",
    "    \n",
    "data = read_data(\"text1.txt\")\n",
    "print(data)"
   ]
  },
  {
   "cell_type": "markdown",
   "id": "e4e24877",
   "metadata": {},
   "source": [
    "Question2"
   ]
  },
  {
   "cell_type": "code",
   "execution_count": 32,
   "id": "7d4312e7",
   "metadata": {},
   "outputs": [
    {
     "name": "stdout",
     "output_type": "stream",
     "text": [
      "{'doc1.txt'}\n",
      "casino\n",
      "they\n",
      "kind\n",
      "{'casino': ['doc1.txt'], 'they': ['doc2.txt'], 'kind': ['doc3.txt']}\n"
     ]
    }
   ],
   "source": [
    "def word_search(docs, word):\n",
    "    output = set()\n",
    "    for i in docs:\n",
    "        docs = open(i, \"r\")\n",
    "        for row in docs:\n",
    "            row = row.lower()\n",
    "            wordList = row.split()\n",
    "            if word.lower() in wordList:\n",
    "                output.add(i)\n",
    "    if output == set():\n",
    "        return (\"Could not find a match\")\n",
    "    else:\n",
    "        return output\n",
    "\n",
    "def multi_word_search(docs, keyword):\n",
    "    d = {}\n",
    "    for word in keyword:\n",
    "        print(word)\n",
    "        testDict = {word: []}\n",
    "        d.update(testDict)\n",
    "        for i in docs:\n",
    "            doc = open(i, \"r\")\n",
    "            for row in doc:\n",
    "                row = row.lower()\n",
    "                wordList = row.split()\n",
    "                if word in wordList:\n",
    "                    d[word].append(i)\n",
    "    return d\n",
    "\n",
    "    \n",
    "docs = {'doc1.txt', 'doc2.txt', 'doc3.txt'}\n",
    "print(word_search(docs, 'casino'))\n",
    "print(multi_word_search(docs, ['casino', 'they', 'kind']))"
   ]
  },
  {
   "cell_type": "markdown",
   "id": "a5868814",
   "metadata": {},
   "source": [
    "Question3"
   ]
  },
  {
   "cell_type": "code",
   "execution_count": 37,
   "id": "0a4c3205",
   "metadata": {},
   "outputs": [
    {
     "name": "stdout",
     "output_type": "stream",
     "text": [
      "{'green shell': 2, 'banana': 1, 'mushroom': 1}\n"
     ]
    }
   ],
   "source": [
    "def winners(data):\n",
    "    d = {}\n",
    "    for i in data:\n",
    "        if i['name'] == None:\n",
    "            i['name'] = 'Unknown'\n",
    "        if i['finish'] == 1:\n",
    "            for item in i['items']:\n",
    "                if item not in d:\n",
    "                    dictUpdate = {item: 1}\n",
    "                    d.update(dictUpdate)\n",
    "                else:\n",
    "                    d[item] += 1\n",
    "    return d\n",
    "            \n",
    "    \n",
    "    \n",
    "x = [{'name': 'Peach', 'items': ['green shell', 'banana', 'green shell',], 'finish': 1},\n",
    "{'name': 'Bowser', 'items': ['green shell',], 'finish': 3},\n",
    "# Sometimes the racer's name wasn't recorded\n",
    "{'name': None, 'items': ['mushroom',], 'finish': 1},\n",
    "{'name': 'Toad', 'items': ['green shell', 'mushroom'], 'finish': 2}]\n",
    "print(winners(x))"
   ]
  }
 ],
 "metadata": {
  "kernelspec": {
   "display_name": "Python 3 (ipykernel)",
   "language": "python",
   "name": "python3"
  },
  "language_info": {
   "codemirror_mode": {
    "name": "ipython",
    "version": 3
   },
   "file_extension": ".py",
   "mimetype": "text/x-python",
   "name": "python",
   "nbconvert_exporter": "python",
   "pygments_lexer": "ipython3",
   "version": "3.10.8"
  }
 },
 "nbformat": 4,
 "nbformat_minor": 5
}
