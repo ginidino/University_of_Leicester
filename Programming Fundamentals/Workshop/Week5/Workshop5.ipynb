{
 "cells": [
  {
   "cell_type": "markdown",
   "id": "b4ee2f07",
   "metadata": {},
   "source": [
    "Task1"
   ]
  },
  {
   "cell_type": "code",
   "execution_count": 9,
   "id": "c97f4dab",
   "metadata": {},
   "outputs": [
    {
     "name": "stdout",
     "output_type": "stream",
     "text": [
      "The minimum tempreture of the week is:  8  and maximum tempreture of the week is:  12\n"
     ]
    }
   ],
   "source": [
    "table = [9, 9, 11, 11, 8, 9, 12]\n",
    "\n",
    "def min_Tempreture(table):\n",
    "    min_tem = table[0]\n",
    "    for i in table:\n",
    "        if i < min_tem:\n",
    "            min_tem = i\n",
    "        else:\n",
    "            continue\n",
    "    return min_tem\n",
    "\n",
    "def max_Tempreture(table):\n",
    "    max_tem = table[0]\n",
    "    for i in table:\n",
    "        if i >= max_tem:\n",
    "            max_tem = i\n",
    "    return max_tem\n",
    "\n",
    "print(\"The minimum tempreture of the week is: \",min_Tempreture(table),\" and maximum tempreture of the week is: \",max_Tempreture(table))"
   ]
  },
  {
   "cell_type": "code",
   "execution_count": 29,
   "id": "eef7d9b7",
   "metadata": {},
   "outputs": [
    {
     "name": "stdout",
     "output_type": "stream",
     "text": [
      "Enter the word: words\n",
      "Enter the letter: w\n",
      "Enter the letter: o\n",
      "Enter the letter: r\n",
      "Enter the letter: d\n",
      "Enter the letter: s\n",
      "True\n"
     ]
    }
   ],
   "source": [
    "alist = []\n",
    "\n",
    "userStr = input(\"Enter the word: \")\n",
    "\n",
    "for i in range(len(userStr)):\n",
    "    letter = input(\"Enter the letter: \")\n",
    "    alist.append(letter)\n",
    "    \n",
    "check = True\n",
    "for x in userStr:\n",
    "    if x in userStr:\n",
    "        continue\n",
    "    else:\n",
    "        check = False\n",
    "print(check)"
   ]
  },
  {
   "cell_type": "code",
   "execution_count": 25,
   "id": "8c4b7286",
   "metadata": {},
   "outputs": [
    {
     "name": "stdout",
     "output_type": "stream",
     "text": [
      "2\n"
     ]
    }
   ],
   "source": [
    "alist = [-30, 2, -5, 4, 80]\n",
    "\n",
    "if alist[0] < 0:\n",
    "    alist[0] = alist[0] * -1\n",
    "        \n",
    "absSmall = alist[0]\n",
    "\n",
    "for i in alist:\n",
    "    if i < 0:\n",
    "        i = i * -1\n",
    "        \n",
    "    if i <= absSmall:\n",
    "        absSmall = i\n",
    "    else:\n",
    "        continue\n",
    "print(absSmall)"
   ]
  },
  {
   "cell_type": "code",
   "execution_count": 21,
   "id": "65fe32b8",
   "metadata": {},
   "outputs": [
    {
     "name": "stdout",
     "output_type": "stream",
     "text": [
      "apple:7:mango:orange\n"
     ]
    }
   ],
   "source": [
    "def joinList(alist, separator):\n",
    "    string = str(alist[0])\n",
    "    for i in range(1, len(alist)):\n",
    "        string += separator + str(alist[i])\n",
    "    return string\n",
    "    \n",
    "alist = [\"apple\",7,\"mango\",\"orange\"]\n",
    "print(joinList(alist, \":\"))"
   ]
  }
 ],
 "metadata": {
  "kernelspec": {
   "display_name": "Python 3 (ipykernel)",
   "language": "python",
   "name": "python3"
  },
  "language_info": {
   "codemirror_mode": {
    "name": "ipython",
    "version": 3
   },
   "file_extension": ".py",
   "mimetype": "text/x-python",
   "name": "python",
   "nbconvert_exporter": "python",
   "pygments_lexer": "ipython3",
   "version": "3.10.8"
  }
 },
 "nbformat": 4,
 "nbformat_minor": 5
}
