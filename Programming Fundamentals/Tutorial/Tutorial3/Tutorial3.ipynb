{
 "cells": [
  {
   "cell_type": "code",
   "execution_count": 1,
   "id": "614399e1",
   "metadata": {},
   "outputs": [
    {
     "name": "stdout",
     "output_type": "stream",
     "text": [
      "How times would you like to flip the coin?: 5\n",
      "0.397459659056308\n",
      "The coin came up tails.\n",
      "0.8729193819424501\n",
      "The coin came up heads\n",
      "0.5592872830651737\n",
      "The coin came up heads\n",
      "0.6109117055018412\n",
      "The coin came up heads\n",
      "0.6018022821455361\n",
      "The coin came up heads\n"
     ]
    }
   ],
   "source": [
    "import random\n",
    "\n",
    "n = int(input(\"How times would you like to flip the coin?: \"))\n",
    "\n",
    "for i in range(n):\n",
    "    flip = random.random()\n",
    "    print(flip)\n",
    "\n",
    "    if flip > 0.5:\n",
    "        print('The coin came up heads')\n",
    "    else:\n",
    "        print('The coin came up tails.')"
   ]
  },
  {
   "cell_type": "code",
   "execution_count": 3,
   "id": "b0188198",
   "metadata": {},
   "outputs": [
    {
     "name": "stdout",
     "output_type": "stream",
     "text": [
      "How times would you like to flip the coin?: 5\n",
      "0.7138479295160131\n",
      "The coin came up heads\n",
      "0.8528735784801935\n",
      "The coin came up heads\n",
      "0.846157118134377\n",
      "The coin came up heads\n",
      "0.19419659849326287\n",
      "the coin came up tails\n",
      "0.23261426648944172\n",
      "the coin came up tails\n",
      "\n",
      "The total number of head is 3 and the ratio of heads is 0.600000. \n",
      "The total number of tails is 2 and the ratio of tails is 0.400000. \n"
     ]
    }
   ],
   "source": [
    "import random\n",
    "\n",
    "tries = int(input(\"How times would you like to flip the coin?: \"))\n",
    "\n",
    "head = 0\n",
    "tail = 0\n",
    "for i in range(tries):\n",
    "    coin = random.random()\n",
    "    print(coin)\n",
    "\n",
    "    if coin > 0.5:\n",
    "        print('The coin came up heads')\n",
    "        head += 1\n",
    "    else:\n",
    "        print('the coin came up tails')\n",
    "        tail += 1\n",
    "print()\n",
    "print(\"The total number of head is %d and the ratio of heads is %f. \" % (head, head / tries))\n",
    "print(\"The total number of tails is %d and the ratio of tails is %f. \" % (tail, tail / tries))"
   ]
  },
  {
   "cell_type": "code",
   "execution_count": 4,
   "id": "ca0aade7",
   "metadata": {},
   "outputs": [
    {
     "name": "stdout",
     "output_type": "stream",
     "text": [
      "Enter 10 students's mark: 79\n",
      "Enter 10 students's mark: 40\n",
      "Enter 10 students's mark: 100\n",
      "Enter 10 students's mark: 96\n",
      "Enter 10 students's mark: 76\n",
      "Enter 10 students's mark: 85\n",
      "Enter 10 students's mark: 94\n",
      "Enter 10 students's mark: 82\n",
      "Enter 10 students's mark: 72\n",
      "Enter 10 students's mark: 76\n",
      "the sum is 800\n",
      "The average is 80.000000.\n"
     ]
    }
   ],
   "source": [
    "sum = 0\n",
    "average = 0\n",
    "count = 0\n",
    "for i in range(10):\n",
    "    mark = int(input(\"Enter 10 students's mark: \"))\n",
    "    count += 1\n",
    "    if mark < 0 or mark > 100:\n",
    "        print(\"invalid output\")\n",
    "        break\n",
    "\n",
    "    sum += mark\n",
    "    average = sum / count\n",
    "print(\"the sum is %d\" % sum)\n",
    "print(\"The average is %f.\" % (average))"
   ]
  },
  {
   "cell_type": "code",
   "execution_count": 5,
   "id": "35fa8343",
   "metadata": {},
   "outputs": [
    {
     "name": "stdout",
     "output_type": "stream",
     "text": [
      "The generaed number that meet the requirement, item number: 1 is : 12\n",
      "The generaed number that meet the requirement, item number: 2 is : 18\n",
      "The generaed number that meet the requirement, item number: 3 is : 18\n",
      "The generaed number that meet the requirement, item number: 4 is : 36\n",
      "The generaed number that meet the requirement, item number: 5 is : 48\n",
      "The generaed number that meet the requirement, item number: 6 is : 6\n",
      "\n",
      "The total number of generated values shich are divisible by 2 and 3 is 6\n"
     ]
    }
   ],
   "source": [
    "import random\n",
    "\n",
    "count = 0\n",
    "for i in range(20):\n",
    "    ranNum = random.randint(1, 50)\n",
    "\n",
    "    if ranNum % 2 == 0 and ranNum % 3 == 0:\n",
    "        count += 1\n",
    "        print(\"The generaed number that meet the requirement, item number: %d is : %d\" % (count, ranNum))\n",
    "\n",
    "print()\n",
    "print(\"The total number of generated values shich are divisible by 2 and 3 is %d\" % count)"
   ]
  }
 ],
 "metadata": {
  "kernelspec": {
   "display_name": "Python 3 (ipykernel)",
   "language": "python",
   "name": "python3"
  },
  "language_info": {
   "codemirror_mode": {
    "name": "ipython",
    "version": 3
   },
   "file_extension": ".py",
   "mimetype": "text/x-python",
   "name": "python",
   "nbconvert_exporter": "python",
   "pygments_lexer": "ipython3",
   "version": "3.9.13"
  }
 },
 "nbformat": 4,
 "nbformat_minor": 5
}
