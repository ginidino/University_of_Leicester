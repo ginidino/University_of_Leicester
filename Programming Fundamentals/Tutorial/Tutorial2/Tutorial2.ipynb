{
 "cells": [
  {
   "cell_type": "markdown",
   "id": "424f8d2d",
   "metadata": {},
   "source": [
    "Question1"
   ]
  },
  {
   "cell_type": "code",
   "execution_count": 1,
   "id": "85dd8bae",
   "metadata": {},
   "outputs": [
    {
     "name": "stdout",
     "output_type": "stream",
     "text": [
      "Enter the frist number: 6\n",
      "Enter the second number: 3\n",
      "The sum 9 of 6 and 3 is not divisible by 3 and 7\n"
     ]
    }
   ],
   "source": [
    "num1 = int(input('Enter the frist number: '))\n",
    "num2 = int(input('Enter the second number: '))\n",
    "sum = num1 + num2\n",
    "if sum % 3 == 0 and sum % 7 == 0:\n",
    "    print('The sum %d of %d and %d is divisible by 3 and 7' % (sum, num1, num2))\n",
    "else:\n",
    "    print('The sum %d of %d and %d is not divisible by 3 and 7' % (sum, num1, num2))"
   ]
  },
  {
   "cell_type": "markdown",
   "id": "264a4b48",
   "metadata": {},
   "source": [
    "Question2"
   ]
  },
  {
   "cell_type": "code",
   "execution_count": 2,
   "id": "ffb3b136",
   "metadata": {},
   "outputs": [
    {
     "name": "stdout",
     "output_type": "stream",
     "text": [
      "Enter the angle in degrees: 8\n",
      "0.13962634015954636\n"
     ]
    }
   ],
   "source": [
    "import math\n",
    "\n",
    "degree = float(input('Enter the angle in degrees: '))\n",
    "radians = degree * (math.pi / 180)\n",
    "print(radians)"
   ]
  },
  {
   "cell_type": "markdown",
   "id": "1d898c85",
   "metadata": {},
   "source": [
    "Question3"
   ]
  },
  {
   "cell_type": "code",
   "execution_count": 3,
   "id": "e06d137d",
   "metadata": {},
   "outputs": [
    {
     "name": "stdout",
     "output_type": "stream",
     "text": [
      "Enter the number: 42\n",
      "42 is positive number.\n"
     ]
    }
   ],
   "source": [
    "num = int(input('Enter the number: '))\n",
    "if num > 0:\n",
    "    print('%d is positive number.' % num)\n",
    "elif num < 0:\n",
    "    print('%d is negative number.' % num)\n",
    "else:\n",
    "    print('%d is neither positive nor negative.' % num)"
   ]
  }
 ],
 "metadata": {
  "kernelspec": {
   "display_name": "Python 3 (ipykernel)",
   "language": "python",
   "name": "python3"
  },
  "language_info": {
   "codemirror_mode": {
    "name": "ipython",
    "version": 3
   },
   "file_extension": ".py",
   "mimetype": "text/x-python",
   "name": "python",
   "nbconvert_exporter": "python",
   "pygments_lexer": "ipython3",
   "version": "3.9.13"
  }
 },
 "nbformat": 4,
 "nbformat_minor": 5
}
