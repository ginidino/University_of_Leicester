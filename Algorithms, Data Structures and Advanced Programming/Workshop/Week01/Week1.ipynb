{
 "cells": [
  {
   "cell_type": "code",
   "execution_count": 1,
   "id": "b6eb428f",
   "metadata": {},
   "outputs": [
    {
     "name": "stdout",
     "output_type": "stream",
     "text": [
      "Enter the word: hello\n",
      "{'h': 1, 'e': 1, 'l': 2, 'o': 1}\n"
     ]
    }
   ],
   "source": [
    "def letter_counter(letter):\n",
    "    d = {}\n",
    "    for i in letter:\n",
    "        i = i.split()\n",
    "        for x in range(len(i)):\n",
    "            if i[x] not in d:\n",
    "                d[i[x]] = 1\n",
    "            else:\n",
    "                d[i[x]] += 1\n",
    "    return d\n",
    "\n",
    "\n",
    "letter = input('Enter the word: ')\n",
    "print(letter_counter(letter))"
   ]
  },
  {
   "cell_type": "code",
   "execution_count": 2,
   "id": "864d088d",
   "metadata": {},
   "outputs": [
    {
     "name": "stdout",
     "output_type": "stream",
     "text": [
      "Enter the expression: 10*2*24\n",
      "480\n"
     ]
    }
   ],
   "source": [
    "def getProduct(text):\n",
    "    nums = text.split(\"*\")\n",
    "    prod = 1\n",
    "    for i in nums:\n",
    "        prod *= int(i)\n",
    "    return prod\n",
    "\n",
    "\n",
    "text = input('Enter the expression: ')\n",
    "print(getProduct(text))"
   ]
  },
  {
   "cell_type": "code",
   "execution_count": 3,
   "id": "007711c2",
   "metadata": {},
   "outputs": [
    {
     "name": "stdout",
     "output_type": "stream",
     "text": [
      "The studnet: injae ID Number: ID123 Age: 25 Mark: 70\n",
      "The studnet: injae ID Number: ID123 Age: 40 Mark: 90\n"
     ]
    }
   ],
   "source": [
    "class Student:\n",
    "    def __init__(self, name, ID, age, mark):\n",
    "        self.name = name\n",
    "        self.id = ID\n",
    "        self.age = int(age)\n",
    "        self.mark = int(mark)\n",
    "\n",
    "    def Display(self):\n",
    "        print(\"The studnet: \" + self.name + \" ID Number: \" + self.id + \" Age: \" + str(self.age) + \" Mark: \" + str(\n",
    "            self.mark))\n",
    "\n",
    "    def setAge(self, newAge):\n",
    "        self.age = int(newAge)\n",
    "\n",
    "    def setMarks(self, newMark):\n",
    "        self.mark = int(newMark)\n",
    "\n",
    "\n",
    "newStudent = Student(\"injae\", \"ID123\", 25, 70)\n",
    "newStudent.Display()\n",
    "newStudent.setAge(40)\n",
    "newStudent.setMarks(90)\n",
    "newStudent.Display()"
   ]
  }
 ],
 "metadata": {
  "kernelspec": {
   "display_name": "Python 3 (ipykernel)",
   "language": "python",
   "name": "python3"
  },
  "language_info": {
   "codemirror_mode": {
    "name": "ipython",
    "version": 3
   },
   "file_extension": ".py",
   "mimetype": "text/x-python",
   "name": "python",
   "nbconvert_exporter": "python",
   "pygments_lexer": "ipython3",
   "version": "3.10.8"
  }
 },
 "nbformat": 4,
 "nbformat_minor": 5
}
