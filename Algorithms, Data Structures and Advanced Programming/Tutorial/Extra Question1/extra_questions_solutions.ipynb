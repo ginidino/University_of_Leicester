{
 "cells": [
  {
   "cell_type": "code",
   "execution_count": 10,
   "metadata": {
    "collapsed": true
   },
   "outputs": [
    {
     "name": "stdout",
     "output_type": "stream",
     "text": [
      "[['a', 'b', 'c'], [1, 2, 3, 4], ['one', 'two', 'three'], ['a', 'b', 0, 'c'], [111111, '1111a1111', 1234]]\n"
     ]
    }
   ],
   "source": [
    "# Reading Files\n",
    "\n",
    "# Write a function that takes a filename and returns a list of lists.\n",
    "# The sublists should contain the contents of each line of the file, which are separated by commas.\n",
    "\n",
    "### File Contents ###\n",
    "'''\n",
    "a, b, c\n",
    "1, 2, 3, 4\n",
    "one, two, three\n",
    "a, b, 0, c\n",
    "111111, 1111a1111, 00001234\n",
    "'''\n",
    "\n",
    "### Expected Output ###\n",
    "# [['a', 'b', 'c'], [1, 2, 3, 4], ['one', 'two', 'three'], ['a', 'b', 0, 'c'], [111111, '1111a1111', '00001234']]\n",
    "\n",
    "### Solution ###\n",
    "\n",
    "# This solution to the number conversion is a bit hacky. There is a slightly more complex alternative solution below if you are interested.\n",
    "#\n",
    "# NOTE: This solution will convert strings with leading 0s [i.e '00001234' -> 1234] which is maybe a bad idea.\n",
    "#       I am leaving it to keep things simple. Can you fix it?\n",
    "def convertNumbers(input_list):\n",
    "    output_list = []\n",
    "    for element in input_list:\n",
    "        try:\n",
    "            element = int(element)\n",
    "        # If there is an error converting the string (meaning it is not an integer string), then just move on to the next element.\n",
    "        except ValueError:\n",
    "            pass # 'pass' means 'do nothing'\n",
    "        output_list.append(element)\n",
    "    return output_list\n",
    "\n",
    "\n",
    "def readFile(filename):\n",
    "    file = None\n",
    "    try:\n",
    "        file = open(filename)\n",
    "\n",
    "        contents = []\n",
    "        for line in file:\n",
    "            line = line.strip().replace(' ', '')\n",
    "            sublist = line.split(',')\n",
    "            sublist = convertNumbers(sublist) # function is implemented above\n",
    "\n",
    "            contents.append(sublist)\n",
    "        return contents\n",
    "\n",
    "    except FileNotFoundError:\n",
    "        print(f\"{filename} does not exist\")\n",
    "        return []\n",
    "    except:\n",
    "        print(f\"Error processing {filename}\")\n",
    "        return []\n",
    "    finally:\n",
    "        if file is not None:\n",
    "            file.close()\n",
    "\n",
    "\n",
    "print(readFile(\"file.txt\"))"
   ]
  },
  {
   "cell_type": "code",
   "execution_count": 11,
   "outputs": [],
   "source": [
    "### Here is an alternative 'non-hacky' way to convert the numbers in a list of strings to integers\n",
    "### It is much less efficient to do it this way because we have to check every character of every string\n",
    "def stringIsInteger(input_string):\n",
    "    # There are two conditions a string must meet for it to be a valid integer:\n",
    "    #     - It contains only numerical characters ['1111a1111' is not valid]\n",
    "    #     - The first character is not a 0 ['00001234' is not valid - it could be an id or something like that]\n",
    "    #           - The string '0' is an exception. 0 is obviously an integer\n",
    "\n",
    "    # Checking first condition\n",
    "    numerical_characters = {'0', '1', '2', '3', '4', '5', '6', '7', '8', '9'}\n",
    "    for character in input_string:\n",
    "        if character not in numerical_characters:\n",
    "            return False\n",
    "\n",
    "    return input_string[0] != '0' or input_string == '0'  # Checking second condition\n",
    "\n",
    "\n",
    "def alternative_convertNumbers(input_list):\n",
    "    output_list = []\n",
    "    for element in input_list:\n",
    "        # This check is required because if we try to convert elements that aren't integers (e.g 'a', 'one', '1111a1111'), we get a ValueError.\n",
    "        if stringIsInteger(element):\n",
    "            element = int(element)\n",
    "        output_list.append(element)\n",
    "\n",
    "    return output_list"
   ],
   "metadata": {
    "collapsed": false,
    "pycharm": {
     "name": "#%%\n"
    }
   }
  },
  {
   "cell_type": "code",
   "execution_count": 12,
   "outputs": [
    {
     "name": "stdout",
     "output_type": "stream",
     "text": [
      "Name: Scott, Age: 23, Location: Leicester\n",
      "Name: Scott, Age: 23, Location: Leicester\n"
     ]
    }
   ],
   "source": [
    "# OOP\n",
    "\n",
    "# Create a class called Person with three attributes: name, age, location\n",
    "# Add setters for these attributes\n",
    "# Add a constructor that takes the three class attributes as parameters\n",
    "# Add a function readFromFile(personFile) that takes a filename as a parameter and sets the person's attributes to the contents of the file\n",
    "# Add a __str__() function that converts the person to a string\n",
    "\n",
    "### File Contents ###\n",
    "'''\n",
    "Scott, 23, Leicester\n",
    "'''\n",
    "class Person:\n",
    "    def __init__(self, name=None, age=None, location=None):\n",
    "        self.name = name\n",
    "        self.age = age\n",
    "        self.location = location\n",
    "\n",
    "    # NOTE: This is 90% just copied from the previous question!\n",
    "    def readFromFile(self, personFile):\n",
    "        file = None\n",
    "        try:\n",
    "            file = open(personFile)\n",
    "            # The loop isn't necessary to read a single line, there are better ways to read this particular file.\n",
    "            for line in file:\n",
    "                line = line.strip().replace(' ', '')\n",
    "                line = line.split(',')\n",
    "\n",
    "                self.setName(line[0])\n",
    "                self.setAge(int(line[1]))\n",
    "                self.setLocation(line[2])\n",
    "                break\n",
    "\n",
    "        except  FileNotFoundError:\n",
    "            print(f\"{personFile} does not exist\")\n",
    "        except:\n",
    "            print(f\"Error processing {personFile}\")\n",
    "        finally:\n",
    "            if file is not None:\n",
    "                file.close()\n",
    "\n",
    "\n",
    "    def setName(self, name):\n",
    "        self.name = name\n",
    "\n",
    "    def setAge(self, age):\n",
    "        self.age = age\n",
    "\n",
    "    def setLocation(self, location):\n",
    "        self.location = location\n",
    "\n",
    "    def  __str__(self):\n",
    "        return f\"Name: {self.name}, Age: {self.age}, Location: {self.location}\"\n",
    "\n",
    "person = Person(\"Scott\", 23, \"Leicester\")\n",
    "print(person)\n",
    "\n",
    "person2 = Person()\n",
    "person2.readFromFile(\"personFile.txt\")\n",
    "print(person2)"
   ],
   "metadata": {
    "collapsed": false,
    "pycharm": {
     "name": "#%%\n"
    }
   }
  }
 ],
 "metadata": {
  "kernelspec": {
   "display_name": "Python 3",
   "language": "python",
   "name": "python3"
  },
  "language_info": {
   "codemirror_mode": {
    "name": "ipython",
    "version": 2
   },
   "file_extension": ".py",
   "mimetype": "text/x-python",
   "name": "python",
   "nbconvert_exporter": "python",
   "pygments_lexer": "ipython2",
   "version": "2.7.6"
  }
 },
 "nbformat": 4,
 "nbformat_minor": 0
}